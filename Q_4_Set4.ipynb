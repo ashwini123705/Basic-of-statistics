{
 "cells": [
  {
   "cell_type": "markdown",
   "id": "e561fcab",
   "metadata": {},
   "source": [
    "4.\tThe auditors from the above example would like to maintain the probability of investigation to 5%. Which of the following represents the minimum number transactions that they should sample if they do not want to change the thresholds of 45 and 55? Assume that the sample statistics remain unchanged.\n",
    "\n",
    "A.\t144\n",
    "B.\t150\n",
    "C.\t196\n",
    "D.\t250\n",
    "E.\tNot enough information\n"
   ]
  },
  {
   "cell_type": "code",
   "execution_count": 4,
   "id": "4d920c12",
   "metadata": {},
   "outputs": [],
   "source": [
    "import scipy.stats as stats\n",
    "import math"
   ]
  },
  {
   "cell_type": "code",
   "execution_count": 2,
   "id": "eec01a10",
   "metadata": {},
   "outputs": [],
   "source": [
    "#given data\n",
    "s_mean = 45\n",
    "pop_mean = 50\n",
    "sample_std_dev = 40"
   ]
  },
  {
   "cell_type": "code",
   "execution_count": 13,
   "id": "cdb2467f",
   "metadata": {},
   "outputs": [
    {
     "data": {
      "text/plain": [
       "-1.9695368676395828"
      ]
     },
     "execution_count": 13,
     "metadata": {},
     "output_type": "execute_result"
    }
   ],
   "source": [
    "#This calculates the critical t-value for a two-tailed test with a 95% confidence level and 249 degrees of freedom.\n",
    "t_critical = stats.t.ppf(0.025, df = 249)\n",
    "t_critical"
   ]
  },
  {
   "cell_type": "code",
   "execution_count": 27,
   "id": "fb1c9440",
   "metadata": {},
   "outputs": [],
   "source": [
    "#Calculates the required sample size (n) using the formula for the t-test for a given margin of error (5), sample standard deviation, and critical t-value\n",
    "n = (sample_std_dev * (abs(t_critical)) / 5) ** 2\n",
    "df = n - 1 #Calculates the degrees of freedom for the t-distribution"
   ]
  },
  {
   "cell_type": "code",
   "execution_count": 28,
   "id": "4402c19f",
   "metadata": {},
   "outputs": [
    {
     "name": "stdout",
     "output_type": "stream",
     "text": [
      "The Auditors would like to maintain the probability of investigation to 5%, they should sample 248.26 transactions if they do not want to change the thresholds of 45 to 55\n",
      "248.26083027145847 247.26083027145847\n"
     ]
    }
   ],
   "source": [
    "print('The Auditors would like to maintain the probability of investigation to 5%, they should sample', round(n,2), 'transactions if they do not want to change the thresholds of 45 to 55')\n",
    "print(n,df)"
   ]
  },
  {
   "cell_type": "code",
   "execution_count": 25,
   "id": "4844935d",
   "metadata": {},
   "outputs": [
    {
     "name": "stdout",
     "output_type": "stream",
     "text": [
      "Confidence Interval: (44.999828238713164, 55.000171761286836)\n"
     ]
    }
   ],
   "source": [
    "print(\"Confidence Interval:\",(stats.t.interval(0.95, df=df, loc=pop_mean, scale=sample_std_dev/math.sqrt(n))))\n"
   ]
  },
  {
   "cell_type": "code",
   "execution_count": null,
   "id": "01255bc0",
   "metadata": {},
   "outputs": [],
   "source": []
  }
 ],
 "metadata": {
  "kernelspec": {
   "display_name": "Python 3 (ipykernel)",
   "language": "python",
   "name": "python3"
  },
  "language_info": {
   "codemirror_mode": {
    "name": "ipython",
    "version": 3
   },
   "file_extension": ".py",
   "mimetype": "text/x-python",
   "name": "python",
   "nbconvert_exporter": "python",
   "pygments_lexer": "ipython3",
   "version": "3.11.5"
  }
 },
 "nbformat": 4,
 "nbformat_minor": 5
}

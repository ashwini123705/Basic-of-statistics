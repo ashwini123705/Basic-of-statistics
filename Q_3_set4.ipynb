{
 "cells": [
  {
   "cell_type": "markdown",
   "id": "2e6b272a",
   "metadata": {},
   "source": [
    "3.\tAuditors at a small community bank randomly sample 100 withdrawal transactions made during the week at an ATM machine located near the bank’s main branch. Over the past 2 years, the average withdrawal amount has been $50 with a standard deviation of $40. Since audit investigations are typically expensive, the auditors decide to not initiate further investigations if the mean transaction amount of the sample is between $45 and $55. What is the probability that in any given week, there will be an investigation?\n",
    "\n",
    "A.\t1.25%\n",
    "B.\t2.5%\n",
    "C.\t10.55%\n",
    "D.\t21.1%\n",
    "E.\t50%\n"
   ]
  },
  {
   "cell_type": "code",
   "execution_count": 32,
   "id": "b101f909",
   "metadata": {},
   "outputs": [],
   "source": [
    "import scipy.stats as stats\n",
    "import math\n",
    "import numpy as np "
   ]
  },
  {
   "cell_type": "code",
   "execution_count": 33,
   "id": "34137f5a",
   "metadata": {},
   "outputs": [],
   "source": [
    "#given data\n",
    "n = 100 #sample withdrawal\n",
    "df = n - 1 #degree of freedom\n",
    "sample_std_dev = 40 #sample standard deviation\n",
    "pop_mean = 50\n",
    "#sample mean ampount lies between 45 & 55, therefore we will consider two sample mean\n",
    "sample_mean45 = 45  \n",
    "sample_mean55 = 55"
   ]
  },
  {
   "cell_type": "code",
   "execution_count": 34,
   "id": "8261cedf",
   "metadata": {},
   "outputs": [],
   "source": [
    "#We will go with t-score as population standard deviation is unknown\n",
    "t_score45 = ((sample_mean45 - pop_mean) / (sample_std_dev/math.sqrt(n)))\n",
    "t_score55 = ((sample_mean55 - pop_mean) / (sample_std_dev/math.sqrt(n)))"
   ]
  },
  {
   "cell_type": "code",
   "execution_count": 35,
   "id": "2447f75c",
   "metadata": {},
   "outputs": [
    {
     "data": {
      "text/plain": [
       "0.7857536624316135"
      ]
     },
     "execution_count": 35,
     "metadata": {},
     "output_type": "execute_result"
    }
   ],
   "source": [
    "#finding the probability\n",
    "p_value45 = stats.t.cdf(t_score45, df)\n",
    "p_value55 = stats.t.cdf(t_score55, df)\n",
    "prob = p_value55 - p_value45\n",
    "prob #the value of P(45 < x < 55)"
   ]
  },
  {
   "cell_type": "code",
   "execution_count": 38,
   "id": "54d84060",
   "metadata": {},
   "outputs": [
    {
     "data": {
      "text/plain": [
       "0.2142463375683865"
      ]
     },
     "execution_count": 38,
     "metadata": {},
     "output_type": "execute_result"
    }
   ],
   "source": [
    "prob_invs = 1 - prob #Subtracting 1 from prob value for finding the probability of investigation\n",
    "prob_invs"
   ]
  },
  {
   "cell_type": "code",
   "execution_count": 39,
   "id": "472bffe1",
   "metadata": {},
   "outputs": [
    {
     "name": "stdout",
     "output_type": "stream",
     "text": [
      "Probability of investigation is 21.42 %\n"
     ]
    }
   ],
   "source": [
    "print('Probability of investigation is', np.round(prob_invs * 100,2) , '%')"
   ]
  },
  {
   "cell_type": "code",
   "execution_count": null,
   "id": "e17607d7",
   "metadata": {},
   "outputs": [],
   "source": []
  }
 ],
 "metadata": {
  "kernelspec": {
   "display_name": "Python 3 (ipykernel)",
   "language": "python",
   "name": "python3"
  },
  "language_info": {
   "codemirror_mode": {
    "name": "ipython",
    "version": 3
   },
   "file_extension": ".py",
   "mimetype": "text/x-python",
   "name": "python",
   "nbconvert_exporter": "python",
   "pygments_lexer": "ipython3",
   "version": "3.11.5"
  }
 },
 "nbformat": 4,
 "nbformat_minor": 5
}
